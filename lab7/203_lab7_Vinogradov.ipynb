{
  "nbformat": 4,
  "nbformat_minor": 0,
  "metadata": {
    "colab": {
      "provenance": []
    },
    "kernelspec": {
      "name": "python3",
      "display_name": "Python 3"
    },
    "language_info": {
      "name": "python"
    }
  },
  "cells": [
    {
      "cell_type": "markdown",
      "source": [
        "# Упражнение 7.2"
      ],
      "metadata": {
        "id": "ZJSUrJogaIO_"
      }
    },
    {
      "cell_type": "markdown",
      "source": [
        "В этой главе показано, как выразить ДПФ и обратное ДПФ произведениями матриц. Время выполнения этих операций пропорционально N^2, где N - длина массива сигнала. Во многих случаях этого достаточно, но есть алгоритм и побыстрее - быстрое преобразование Фурье (БПФ); время его работы пропорционально Nlog N. Ключ к БПФ - это лемма Дэниелсона-Ланцоша (Danielson- Lanczos).\n",
        "\n",
        "Эта лемма предлагает рекурсивный алгоритм для ДПФ:\n",
        "\n",
        "1. Дан массив сигнала у. Разделим его на четные элементы е и нечетные элементы о.\n",
        "2. Вычислим DFT е и о, делая рекурсивные вызовы.\n",
        "3. Вычислим DFT(y) для каждого значения n, используя лемму Дэниелсона-Ланцоша.\n",
        "\n",
        "В простейшем случае эту рекурсию надо продолжать, пока длина у не дойдет до 1. Тогда DFT(y) = у. А если длина у достаточно мала, можно вычислить его ДПФ перемножением матриц, используя заранее вычисленные матрицы."
      ],
      "metadata": {
        "id": "MMBlArzzcfXe"
      }
    },
    {
      "cell_type": "markdown",
      "source": [
        "Давайте начнем с исследования функции FFT из библиотеки. Затем мы применим быстрое преобразование Фурье (БПФ) к небольшому реальному сигналу."
      ],
      "metadata": {
        "id": "5QGINnJkcq9J"
      }
    },
    {
      "cell_type": "code",
      "execution_count": null,
      "metadata": {
        "colab": {
          "base_uri": "https://localhost:8080/"
        },
        "id": "b-YsgoR6Xz6o",
        "outputId": "e4cfe162-806d-4c02-d33f-912a5243d326"
      },
      "outputs": [
        {
          "output_type": "stream",
          "name": "stdout",
          "text": [
            "[ 0.2+0.j  -1.2-0.2j  0.2+0.j  -1.2+0.2j]\n"
          ]
        }
      ],
      "source": [
        "import numpy as np\n",
        "ys = [-0.5, 0.1, 0.7, -0.1]\n",
        "hs = np.fft.fft(ys)\n",
        "print(hs)"
      ]
    },
    {
      "cell_type": "markdown",
      "source": [
        "Давайте определим функцию для вычисления дискретного преобразования Фурье (DFT)."
      ],
      "metadata": {
        "id": "JRd5-7QWdwYX"
      }
    },
    {
      "cell_type": "code",
      "source": [
        "PI2 = 2 * np.pi\n",
        "\n",
        "def dft(ys):\n",
        "    N = len(ys)\n",
        "    ts = np.arange(N) / N\n",
        "    freqs = np.arange(N)\n",
        "    args = np.outer(ts, freqs)\n",
        "    M = np.exp(1j * PI2 * args)\n",
        "    amps = M.conj().transpose().dot(ys)\n",
        "    return amps"
      ],
      "metadata": {
        "id": "hwFhlieydv8b"
      },
      "execution_count": null,
      "outputs": []
    },
    {
      "cell_type": "code",
      "source": [
        "hs2 = dft(ys)\n",
        "np.sum(np.abs(hs - hs2))"
      ],
      "metadata": {
        "colab": {
          "base_uri": "https://localhost:8080/"
        },
        "id": "xTOW_tCxd7z-",
        "outputId": "741d29ff-668c-4ed2-fca9-c327198889a4"
      },
      "execution_count": null,
      "outputs": [
        {
          "output_type": "execute_result",
          "data": {
            "text/plain": [
              "5.864775846765962e-16"
            ]
          },
          "metadata": {},
          "execution_count": 3
        }
      ]
    },
    {
      "cell_type": "markdown",
      "source": [
        "Мы создали функцию dft, которая вычисляет дискретное преобразование Фурье для входного сигнала ys, используя массивы времени ts, частот freqs, аргументы args, матрицу M, и возвращая амплитуды преобразования, после чего мы сравнили результаты с другими значениями."
      ],
      "metadata": {
        "id": "oLbCjd5Dd7XO"
      }
    },
    {
      "cell_type": "markdown",
      "source": [
        "Затем разработаем функцию, которая разбивает массив на две равные части и применяет быстрое преобразование Фурье к каждой из них."
      ],
      "metadata": {
        "id": "0TpmERw5eGBU"
      }
    },
    {
      "cell_type": "code",
      "source": [
        "def fft_norec(ys):\n",
        "    N = len(ys)\n",
        "    He = np.fft.fft(ys[::2])\n",
        "    Ho = np.fft.fft(ys[1::2])\n",
        "\n",
        "    ns = np.arange(N)\n",
        "    W = np.exp(-1j * PI2 * ns / N)\n",
        "\n",
        "    return np.tile(He, 2) + W * np.tile(Ho, 2)"
      ],
      "metadata": {
        "id": "CUG_BWlteOlJ"
      },
      "execution_count": null,
      "outputs": []
    },
    {
      "cell_type": "code",
      "source": [
        "hs3 = fft_norec(ys)\n",
        "np.sum(np.abs(hs - hs3))"
      ],
      "metadata": {
        "colab": {
          "base_uri": "https://localhost:8080/"
        },
        "id": "cVqg8qv1eSz3",
        "outputId": "6cd4f0d6-8d46-4a6d-cebb-acde3deddacf"
      },
      "execution_count": null,
      "outputs": [
        {
          "output_type": "execute_result",
          "data": {
            "text/plain": [
              "0.0"
            ]
          },
          "metadata": {},
          "execution_count": 5
        }
      ]
    },
    {
      "cell_type": "markdown",
      "source": [
        "Полученные результаты соответствуют ожиданиям."
      ],
      "metadata": {
        "id": "8nQolTDJeiHs"
      }
    },
    {
      "cell_type": "markdown",
      "source": [
        "Далее, мы заменим функцию np.fft.fft на рекурсивные вызовы и проверим новую функцию для вычисления БПФ."
      ],
      "metadata": {
        "id": "f-WTwpy_f5MN"
      }
    },
    {
      "cell_type": "code",
      "source": [
        "def fft(ys):\n",
        "    N = len(ys)\n",
        "    if N == 1:\n",
        "        return ys\n",
        "\n",
        "    He = fft(ys[::2])\n",
        "    Ho = fft(ys[1::2])\n",
        "\n",
        "    ns = np.arange(N)\n",
        "    W = np.exp(-1j * PI2 * ns / N)\n",
        "\n",
        "    return np.tile(He, 2) + W * np.tile(Ho, 2)"
      ],
      "metadata": {
        "id": "qeO-JzSPf8vc"
      },
      "execution_count": null,
      "outputs": []
    },
    {
      "cell_type": "markdown",
      "source": [
        "И проверим."
      ],
      "metadata": {
        "id": "KNhvHmbdf_EX"
      }
    },
    {
      "cell_type": "code",
      "source": [
        "hs4 = fft(ys)\n",
        "np.sum(np.abs(hs - hs4))"
      ],
      "metadata": {
        "colab": {
          "base_uri": "https://localhost:8080/"
        },
        "id": "8CWP_J4DgBVF",
        "outputId": "1f708073-7b3f-4d05-fd5a-bf7366d19bec"
      },
      "execution_count": null,
      "outputs": [
        {
          "output_type": "execute_result",
          "data": {
            "text/plain": [
              "1.6653345369377348e-16"
            ]
          },
          "metadata": {},
          "execution_count": 7
        }
      ]
    },
    {
      "cell_type": "markdown",
      "source": [
        "Функции FFT (Быстрое Преобразование Фурье) и DFT (Дискретное Преобразование Фурье) применяются для перевода сигналов из временной области в частотную. Обе функции осуществляют одинаковое преобразование, однако FFT выполняет это операцию значительно быстрее благодаря использованию алгоритма, основанного на разложениях в ряд Фурье. Время работы FFT составляет O(n log(n)), в то время как для DFT оно равно O(n^2). Таким образом, FFT является более эффективным алгоритмом для вычисления преобразования Фурье, особенно для обработки больших объемов данных."
      ],
      "metadata": {
        "id": "7WEwvsG4gNij"
      }
    }
  ]
}